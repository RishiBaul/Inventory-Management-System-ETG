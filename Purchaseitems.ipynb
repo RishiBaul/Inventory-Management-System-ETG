{
  "nbformat": 4,
  "nbformat_minor": 0,
  "metadata": {
    "colab": {
      "name": "Purchaseitems.ipynb",
      "provenance": []
    },
    "kernelspec": {
      "name": "python3",
      "display_name": "Python 3"
    },
    "language_info": {
      "name": "python"
    }
  },
  "cells": [
    {
      "cell_type": "markdown",
      "metadata": {
        "id": "ftAn52Nk3nmG"
      },
      "source": [
        "Loading The Inventory"
      ]
    },
    {
      "cell_type": "code",
      "metadata": {
        "id": "mhFvzjhm32Nk"
      },
      "source": [
        "import json\n",
        "\n",
        "fd = open(\"record.json\",'r')\n",
        "r = fd.read()\n",
        "fd.close()\n",
        "record = json.loads(r)"
      ],
      "execution_count": 31,
      "outputs": []
    },
    {
      "cell_type": "markdown",
      "metadata": {
        "id": "Rod7NSs05R7d"
      },
      "source": [
        "Choices To Purchase And check Sales"
      ]
    },
    {
      "cell_type": "code",
      "metadata": {
        "colab": {
          "base_uri": "https://localhost:8080/"
        },
        "id": "fSIyMIkP5YFj",
        "outputId": "6cf472f3-69c7-413b-e5c8-469e33fe42a5"
      },
      "source": [
        "\n",
        "tot=0\n",
        "item=0\n",
        "flag=1\n",
        "while(flag==1):\n",
        "    print(\"\\n**********INVENTORY MANAGEMENT SYSTEM**********\\n\")\n",
        "    print(\"Enter 1 to PURCHASE item\")\n",
        "    print(\"Enter 2 to VIEW current available stock\")\n",
        "    print(\"Enter 3 to view SALES made\")\n",
        "    print(\"Enter 4 to EXIT\")\n",
        "    ch=input(\"\\nEnter your choice: \")\n",
        "    \n",
        "    if(ch=='1'):\n",
        "        prod_id =input(\"Enter product id: \")\n",
        "        if prod_id in record:\n",
        "            qn=int(input(\"Enter the quantity: \"))            \n",
        "            cq=record[prod_id]['qn']-qn\n",
        "            if(cq<0):\n",
        "                print(\"OUT OF STOCK\")\n",
        "            else:\n",
        "                fr=open(\"sales.json\",'r')\n",
        "                txt=fr.read()\n",
        "                sales=json.loads(txt)\n",
        "                print(\"\\n--------------------------------------------------\")\n",
        "                print(\"You purchased \",qn,\" unit(s) of \",record[prod_id]['name'])\n",
        "                print(\"MRP is: \",record[prod_id]['pr'])  \n",
        "                print(\"Discount is: \",record[prod_id]['dis'],\"%\")             \n",
        "                name=record[prod_id]['name']\n",
        "                pr=record[prod_id]['pr']\n",
        "                Type=record[prod_id]['type']\n",
        "                dis=record[prod_id]['dis']\n",
        "                record[prod_id]['qn'] = cq\n",
        "                js = json.dumps(record)\n",
        "                fd = open(\"record.json\",'w')\n",
        "                fd.write(js)\n",
        "                fd.close()\n",
        "                dp=pr-(pr*(dis/100))\n",
        "                print(\"Discounted price:- \",dp)\n",
        "                tb=pr*qn-(pr*qn*(dis/100))\n",
        "                print(\"\\nYour total bill is \",tb)\n",
        "                print(\"--------------------------------------------------\\n\")\n",
        "                if(bool (sales)):\n",
        "                    i=int(max(sales.keys()))+1\n",
        "                    sales[i]={'name': name, 'type': Type, 'pr': pr, 'qn': qn, 'dis': dis, 'totbill': tb}\n",
        "                else:\n",
        "                    sales[1001]={'name': name, 'type': Type, 'pr': pr, 'qn': qn, 'dis': dis, 'totbill': tb}\n",
        "                ss = json.dumps(sales)\n",
        "                sd = open(\"sales.json\",'w')\n",
        "                sd.write(ss)\n",
        "                sd.close()\n",
        "                \n",
        "    elif(ch=='2'):\n",
        "        fd = open(\"record.json\",'r')\n",
        "        rec = fd.read()\n",
        "        fd.close()\n",
        "        record = json.loads(rec)\n",
        "        print(\"\\nID\\t\\tNAME\\tTYPE\\t\\tPRICE\\tQUANTITY\\tDISCOUNT\\n\")\n",
        "        for i in record:\n",
        "            print(i,\"----->\",record[i]['name'],\"\\t\",record[i]['type'],\"\\t\",record[i]['pr'],\"\\t\",record[i]['qn'],\"\\t\\t\",record[i]['dis'])\n",
        "            \n",
        "    elif(ch=='3'):\n",
        "        fd = open(\"sales.json\",'r')\n",
        "        txt= fd.read()\n",
        "        fd.close()\n",
        "        sale = json.loads(txt)\n",
        "        print(\"\\nItems sold are\\n\")\n",
        "        for i in sale:            \n",
        "            print(sale[i]['qn'],\" unit of \",sale[i]['name'],\"----Bill is \",sale[i]['totbill'])\n",
        "        for j in sale:\n",
        "            tot+=sale[j]['totbill']\n",
        "            item+=int(sale[j]['qn'])\n",
        "        print(\"**********************************************\")\n",
        "        print(\"\\nTotal sales made: \",tot)\n",
        "        print(\"Total quantity sold\",item)\n",
        "    \n",
        "    else:\n",
        "        print(\"\\nYou have Exited\")\n",
        "        flag=0"
      ],
      "execution_count": 32,
      "outputs": [
        {
          "output_type": "stream",
          "name": "stdout",
          "text": [
            "\n",
            "**********INVENTORY MANAGEMENT SYSTEM**********\n",
            "\n",
            "Enter 1 to PURCHASE item\n",
            "Enter 2 to VIEW current available stock\n",
            "Enter 3 to view SALES made\n",
            "Enter 4 to EXIT\n",
            "\n",
            "Enter your choice: 1\n",
            "Enter product id: 1028\n",
            "Enter the quantity: 5\n",
            "\n",
            "--------------------------------------------------\n",
            "You purchased  5  unit(s) of  perk\n",
            "MRP is:  5\n",
            "Discount is:  0 %\n",
            "Discounted price:-  5.0\n",
            "\n",
            "Your total bill is  25.0\n",
            "--------------------------------------------------\n",
            "\n",
            "\n",
            "**********INVENTORY MANAGEMENT SYSTEM**********\n",
            "\n",
            "Enter 1 to PURCHASE item\n",
            "Enter 2 to VIEW current available stock\n",
            "Enter 3 to view SALES made\n",
            "Enter 4 to EXIT\n",
            "\n",
            "Enter your choice: 3\n",
            "\n",
            "Items sold are\n",
            "\n",
            "4  unit of  Milk Cake ----Bill is  760.0\n",
            "5  unit of  Drink ----Bill is  403.75\n",
            "5  unit of  Case ----Bill is  2845.25\n",
            "1  unit of  chocopie ----Bill is  78.4\n",
            "5  unit of  fanta ----Bill is  315.25\n",
            "3  unit of  sprite ----Bill is  174.6\n",
            "2  unit of  silk ----Bill is  190.0\n",
            "5  unit of  perk ----Bill is  25.0\n",
            "**********************************************\n",
            "\n",
            "Total sales made:  4792.25\n",
            "Total quantity sold 30\n",
            "\n",
            "**********INVENTORY MANAGEMENT SYSTEM**********\n",
            "\n",
            "Enter 1 to PURCHASE item\n",
            "Enter 2 to VIEW current available stock\n",
            "Enter 3 to view SALES made\n",
            "Enter 4 to EXIT\n",
            "\n",
            "Enter your choice: 2\n",
            "\n",
            "ID\t\tNAME\tTYPE\t\tPRICE\tQUANTITY\tDISCOUNT\n",
            "\n",
            "1001 -----> Choco Cake \t cake \t 100 \t 100 \t\t 5\n",
            "1002 -----> Milk Cake \t cake \t 200 \t 100 \t\t 5\n",
            "1003 -----> Drink \t soft drink \t 85 \t 100 \t\t 5\n",
            "1004 -----> Candy \t chocolate \t 5 \t 1000 \t\t 5\n",
            "1005 -----> Pen \t stationary \t 20 \t 100 \t\t 5\n",
            "1006 -----> Phone \t electronics \t 50000 \t 10 \t\t 5\n",
            "1007 -----> Mic \t electronics \t 1500 \t 8 \t\t 5\n",
            "1008 -----> Case \t electronics \t 599 \t 0 \t\t 5\n",
            "1009 -----> bourbon \t biscuit \t 50 \t 120 \t\t 4\n",
            "1010 -----> chocopie \t biscuit \t 80 \t 94 \t\t 2\n",
            "1011 -----> pepsi \t soft drink \t 60 \t 50 \t\t 3\n",
            "1012 -----> mirinda \t soft drink \t 60 \t 50 \t\t 2\n",
            "1013 -----> maza \t soft drink \t 55 \t 50 \t\t 3\n",
            "1014 -----> coke \t soft drink \t 60 \t 50 \t\t 2\n",
            "1015 -----> mountain due \t soft drink \t 60 \t 50 \t\t 3\n",
            "1016 -----> thumbsUP \t soft drink \t 55 \t 50 \t\t 3\n",
            "1017 -----> appyFizz \t soft drink \t 80 \t 48 \t\t 2\n",
            "1018 -----> fanta \t soft drink \t 65 \t 45 \t\t 3\n",
            "1019 -----> limka \t soft drink \t 60 \t 50 \t\t 4\n",
            "1020 -----> sprite \t soft drink \t 60 \t 47 \t\t 3\n",
            "1021 -----> oreo \t biscuit \t 30 \t 100 \t\t 3\n",
            "1022 -----> parle G \t biscuit \t 5 \t 100 \t\t 1\n",
            "1023 -----> britania \t biscuit \t 15 \t 100 \t\t 2\n",
            "1024 -----> crackJack \t biscuit \t 10 \t 100 \t\t 1\n",
            "1025 -----> silk \t chocolate \t 100 \t 48 \t\t 5\n",
            "1026 -----> kitkat \t chocolate \t 50 \t 100 \t\t 2\n",
            "1027 -----> milkyBar \t chocolate \t 10 \t 100 \t\t 1\n",
            "1028 -----> perk \t chocolate \t 5 \t 95 \t\t 0\n",
            "1029 -----> munch \t chocolate \t 10 \t 100 \t\t 1\n",
            "1030 -----> headphone \t electronics \t 500 \t 10 \t\t 6\n",
            "1031 -----> vivo \t phone \t 1800 \t 15 \t\t 5\n",
            "\n",
            "**********INVENTORY MANAGEMENT SYSTEM**********\n",
            "\n",
            "Enter 1 to PURCHASE item\n",
            "Enter 2 to VIEW current available stock\n",
            "Enter 3 to view SALES made\n",
            "Enter 4 to EXIT\n",
            "\n",
            "Enter your choice: 4\n",
            "\n",
            "You have Exited\n"
          ]
        }
      ]
    },
    {
      "cell_type": "code",
      "metadata": {
        "colab": {
          "base_uri": "https://localhost:8080/"
        },
        "id": "yxXT2_16k7F-",
        "outputId": "8d950c17-ee9e-4a1f-c2f8-b5f85e03f2f5"
      },
      "source": [
        "int(max(sales.keys()))"
      ],
      "execution_count": 15,
      "outputs": [
        {
          "output_type": "execute_result",
          "data": {
            "text/plain": [
              "1002"
            ]
          },
          "metadata": {},
          "execution_count": 15
        }
      ]
    }
  ]
}